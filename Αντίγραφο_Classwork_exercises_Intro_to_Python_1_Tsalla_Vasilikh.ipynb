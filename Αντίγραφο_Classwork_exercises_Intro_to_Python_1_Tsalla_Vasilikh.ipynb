{
  "nbformat": 4,
  "nbformat_minor": 0,
  "metadata": {
    "colab": {
      "provenance": []
    },
    "kernelspec": {
      "name": "python3",
      "display_name": "Python 3"
    },
    "language_info": {
      "name": "python"
    }
  },
  "cells": [
    {
      "cell_type": "markdown",
      "source": [
        "#Ασκήσεις του μαθήματος \"Εισαγωγή στην Python 1 - Variables, data types (integers, floats, stings, boolean, lists, dictionaries), mathematical & comparison operators, functions & methods"
      ],
      "metadata": {
        "id": "eZ6s1jOQBAty"
      }
    },
    {
      "cell_type": "markdown",
      "source": [
        "\n",
        "\n",
        "---\n",
        "\n",
        "\n",
        "####**Άσκηση 2** (Προαιρετικά)\n",
        "\n",
        "**Try yourself**: Φτιάξτε ένα νέο κελί κώδικα (Code cell) ακριβώς κάτω από αυτό και δημιουργήστε μεταβλητές με τα στοιχεία σας:\n",
        "\n",
        "*   το μικρό σας όνομα\n",
        "*   το επίθετό σας\n",
        "*   το email σας\n",
        "*   το εξάμηνό σας\n",
        "*   τυπώστε όλα μαζί τα παραπάνω στην οθόνη"
      ],
      "metadata": {
        "id": "wiiXoX3tfVML"
      }
    },
    {
      "cell_type": "code",
      "source": [
        "firstName = \"Vasilikh\"\n",
        "lastName = \"Tsalla\"\n",
        "email = \"VaslikhTsalla@gmail.com\"\n",
        "semester = \"Z\"\n",
        "print (firstName, lastName, email, semester)"
      ],
      "metadata": {
        "id": "P-ZvPTEvi2yR",
        "colab": {
          "base_uri": "https://localhost:8080/"
        },
        "outputId": "320390fb-37fd-417f-9f2d-c3c715ce039b"
      },
      "execution_count": 1,
      "outputs": [
        {
          "output_type": "stream",
          "name": "stdout",
          "text": [
            "Vasilikh Tsalla VaslikhTsalla@gmail.com Z\n"
          ]
        }
      ]
    },
    {
      "cell_type": "markdown",
      "source": [
        "\n",
        "\n",
        "---\n",
        "\n",
        "####**Άσκηση 3**\n",
        "\n",
        "**Try yourself**: Φτιάξτε ένα νέο κελί κώδικα (Code cell) ακριβώς κάτω από αυτό και κάνετε τα παρακάτω:\n",
        "\n",
        "* δημιουργήστε 3 μεταβλητές, όπου η καθεμιά θα έχει τη θερμοκρασία του αέρα όπως την καταγράψαμε το πρωί, το μεσημέρι και το βράδυ\n",
        "* βρείτε το μέσο όρο των θερμοκρασιών\n",
        "* βρείτε τη μέγιστη διαφορά των θερμοκρασιών\n",
        "* δημιουργήστε μια νέα μεταβλητή που θα περιέχει την τιμή της μέσης θερμοκρασίας σε ακέραιο\n",
        "* ελέγξτε τα αποτελέσματα τυπώνοντάς τα στην οθόνη\n"
      ],
      "metadata": {
        "id": "yrhDlp7r8Jsi"
      }
    },
    {
      "cell_type": "code",
      "source": [
        "temp_morning = 10\n",
        "temp_night = 12\n",
        "print (\"Η θερμοκρασία το πρωί ήταν:\", temp_morning)\n",
        "print (\"Η θερμοκρασία το βράδυ είναι:\" ,temp_night)"
      ],
      "metadata": {
        "colab": {
          "base_uri": "https://localhost:8080/"
        },
        "id": "ABLTtnRIjIHb",
        "outputId": "a9a8212f-e312-46cf-cbc7-cb4bfc5f6b96"
      },
      "execution_count": 2,
      "outputs": [
        {
          "output_type": "stream",
          "name": "stdout",
          "text": [
            "Η θερμοκρασία το πρωί ήταν: 10\n",
            "Η θερμοκρασία το βράδυ είναι: 12\n"
          ]
        }
      ]
    },
    {
      "cell_type": "code",
      "source": [
        "MO = temp_morning + temp_night/2\n",
        "print (\"Ο μέσος όρος των θερμοκρασιών είναι:\", MO)"
      ],
      "metadata": {
        "colab": {
          "base_uri": "https://localhost:8080/"
        },
        "id": "kobe6DbjjLpo",
        "outputId": "cccd08e0-84d2-4b16-996d-535e834e524d"
      },
      "execution_count": 3,
      "outputs": [
        {
          "output_type": "stream",
          "name": "stdout",
          "text": [
            "Ο μέσος όρος των θερμοκρασιών είναι: 16.0\n"
          ]
        }
      ]
    },
    {
      "cell_type": "code",
      "source": [
        "Megisth_diafora = temp_night - temp_morning\n",
        "print (\"Η μέγιστη διαφορά των θερμοκρασιών είναι:\", Megisth_diafora)"
      ],
      "metadata": {
        "colab": {
          "base_uri": "https://localhost:8080/"
        },
        "id": "98U_ksUejO-f",
        "outputId": "4b9501be-c4e3-46ba-f122-d687b70887bc"
      },
      "execution_count": 4,
      "outputs": [
        {
          "output_type": "stream",
          "name": "stdout",
          "text": [
            "Η μέγιστη διαφορά των θερμοκρασιών είναι: 2\n"
          ]
        }
      ]
    },
    {
      "cell_type": "code",
      "source": [
        "temp_akeraios = print(int(MO))"
      ],
      "metadata": {
        "colab": {
          "base_uri": "https://localhost:8080/"
        },
        "id": "0vyRx7najRdY",
        "outputId": "be27aff5-fb12-4d52-d1d8-b28a9a5b1f97"
      },
      "execution_count": 5,
      "outputs": [
        {
          "output_type": "stream",
          "name": "stdout",
          "text": [
            "16\n"
          ]
        }
      ]
    },
    {
      "cell_type": "markdown",
      "source": [
        "\n",
        "\n",
        "---\n",
        "\n",
        "####**Άσκηση 4**\n",
        "\n",
        "**Try yourself**: Φτιάξτε ένα νέο κελί κώδικα (Code cell) ακριβώς κάτω από αυτό και κάνετε τα παρακάτω:\n",
        "\n",
        "* δημιουργήστε μια μεταβλητή με την πόλη που μένετε και μία με το αγαπημένο σας ταξιδιωτικό προορισμό\n",
        "* ελέγξτε την ομοιότητα του τύπου των μεταβλητών\n",
        "* ελέγξτε την ισότητα των μεταβλητών\n",
        "* ελέγξτε αν η μεταβλητή της πόλης είναι μικρότερη της μεταβλητής του ταξιδιωτικού προορισμού\n",
        "\n",
        "Τι νομίζετε ότι σημαίνει ότι ένα string είναι μεγαλύτερο, μικρότερο ή ίσο με ένα άλλο; (Γράψτε την απάντησή σας σε ένα νέο text cell ή σε ένα code cell σαν σχόλιο)\n"
      ],
      "metadata": {
        "id": "pg9-mk1eTq2l"
      }
    },
    {
      "cell_type": "code",
      "source": [
        "polh_katoikias = \"Athina\"\n",
        "agaphmenos_tax_proorismos = \"Paros\"\n",
        "type(polh_katoikias), type(agaphmenos_tax_proorismos)"
      ],
      "metadata": {
        "colab": {
          "base_uri": "https://localhost:8080/"
        },
        "id": "K3dZsIHOjToR",
        "outputId": "39f38294-0032-41c2-f74e-f221eebc3f77"
      },
      "execution_count": 7,
      "outputs": [
        {
          "output_type": "execute_result",
          "data": {
            "text/plain": [
              "(str, str)"
            ]
          },
          "metadata": {},
          "execution_count": 7
        }
      ]
    },
    {
      "cell_type": "code",
      "source": [
        "print (\"Polh katoikias is equal to agaphmenos taxidiotikos proorismos:\", polh_katoikias == agaphmenos_tax_proorismos)"
      ],
      "metadata": {
        "colab": {
          "base_uri": "https://localhost:8080/"
        },
        "id": "iIEKa3VTjcZ7",
        "outputId": "7b51141f-f4f0-44b5-92a8-a7159d666e75"
      },
      "execution_count": 8,
      "outputs": [
        {
          "output_type": "stream",
          "name": "stdout",
          "text": [
            "Polh katoikias is equal to agaphmenos taxidiotikos proorismos: False\n"
          ]
        }
      ]
    },
    {
      "cell_type": "code",
      "source": [
        "print (\"Polh_katoikias is less than agaphmenos taxidiotikos proorismos:\", polh_katoikias < agaphmenos_tax_proorismos)"
      ],
      "metadata": {
        "colab": {
          "base_uri": "https://localhost:8080/"
        },
        "id": "WSaG9RrLjdXf",
        "outputId": "2082dff9-6941-4ab7-caae-6651d3a38a9a"
      },
      "execution_count": 9,
      "outputs": [
        {
          "output_type": "stream",
          "name": "stdout",
          "text": [
            "Polh_katoikias is less than agaphmenos taxidiotikos proorismos: True\n"
          ]
        }
      ]
    },
    {
      "cell_type": "markdown",
      "source": [
        "Το αν ένα string είναι μικρότερο, μεγαλύτερο ή ίσο με ένα αλλό σημαίνει πως οι χαρακτήρες της τιμής της μεταβλητής είναι περισσότεροι."
      ],
      "metadata": {
        "id": "Ar_2ZP3mjhmC"
      }
    },
    {
      "cell_type": "markdown",
      "source": [
        "\n",
        "\n",
        "---\n",
        "\n",
        "####**Άσκηση 5**\n",
        "\n",
        "**Try yourself**: Φτιάξτε ένα νέο κελί κώδικα (Code cell) ακριβώς κάτω από αυτό και κάνετε τα παρακάτω:\n",
        "\n",
        "* δημιουργήστε μια μεταβλητή με τιμή την datetime ημερομηνία δημοσίευσης ενός άρθρου: 2023-03-24T12:07:19+02:00\n",
        "* απομονώστε την ημερομηνία και αποθηκεύστε τη σε μια μεταβλητή με κατάλληλο όνομα\n",
        "* τυπώστε την ημερομηνία\n",
        "* φτιάξτε ένα νέο code cell\n",
        "* αποθηκεύστε σε διαφορετικές μεταβλητές το έτος, το μήνα και την ημέρα (**tip**: κάντε το ένα ένα και τυπώνετε για να βλέπετε αν το κάνετε σωστά)\n",
        "* φτιάξτε ένα νέο code cell\n",
        "* απομονώστε την ώρα (το 12:07:19) και αποθηκεύστε τη σε μια νέα μεταβλητή \n",
        "* φτιάξτε ένα νέο code cell\n",
        "* χρησιμοποιώντας τις μεταβλητές που φτιάξατε, δημιουργήστε μια νέα μεταβλητή με όνομα custom_daytime που θα περιέχει: <ημέρα>/<μήνας>/<έτος>, ώρα: <ώρα>\n",
        "* και τυπώστε τη στην οθόνη"
      ],
      "metadata": {
        "id": "jIk9BoTu-f05"
      }
    },
    {
      "cell_type": "code",
      "source": [
        "datetime = \"2023-3-24, 12-7-19+2-00\"\n",
        "List = datetime \n",
        "date = List [:9]\n",
        "time = List [-13:]\n",
        "new_datetime = (date , time)\n",
        "print (new_datetime)"
      ],
      "metadata": {
        "colab": {
          "base_uri": "https://localhost:8080/"
        },
        "id": "OWRylHuYjo7u",
        "outputId": "59b67acd-9e8a-4936-9bca-c017753fe6d7"
      },
      "execution_count": 12,
      "outputs": [
        {
          "output_type": "stream",
          "name": "stdout",
          "text": [
            "('2023-3-24', ' 12-7-19+2-00')\n"
          ]
        }
      ]
    },
    {
      "cell_type": "markdown",
      "source": [
        "\n",
        "\n",
        "---\n",
        "\n",
        "####**Άσκηση 6**\n",
        "\n",
        "**Try yourself**: Φτιάξτε ένα νέο κελί κώδικα (Code cell) ακριβώς κάτω από αυτό και κάνετε τα παρακάτω:\n",
        "\n",
        "1. Δημιουργήστε μια κενή λίστα με όνομα usersL\n",
        "2. Φτιάξτε μια μεταβλητή με όνομα email1 και τιμή ένα email\n",
        "3. Βρείτε το index του \"@\" (με function) και αποθηκεύστε το σε μια μεταβλητή με όνομα at1\n",
        "4. Πάρτε (slice) το τμήμα του mail που έχει μόνο το όνομα, αποθηκεύστε το σε μια μεταβλητή με όνομα user1 και βάλτε το στη λίστα usersL\n",
        "5. Επαναλάβετε τα βήματα 2-4 άλλη 1 φορά (κάντε copy-paste και αλλάξτε ό,τι χρειάεται)\n",
        "6. Ταξινομήστε τα περιεχόμενα της λίστας με αύξουσα σειρά και\n",
        "7. Τυπώστε τα περιεχόμενά της στην οθόνη\n",
        "\n",
        "**Tip**: χρησιμοποιήστε όσα κελιά θέλετε έτσι ώστε να ελέγχετε τι κάνετε σε κάθε βήμα"
      ],
      "metadata": {
        "id": "_agWj9vpdYL9"
      }
    },
    {
      "cell_type": "code",
      "source": [
        "List = []\n",
        "email = \"vasilikhTsalla@gmail.com\"\n",
        "email.index(\"@\")"
      ],
      "metadata": {
        "colab": {
          "base_uri": "https://localhost:8080/"
        },
        "id": "9K_6ifbJjyOh",
        "outputId": "3734b88f-574f-45df-807f-8acb6922b13e"
      },
      "execution_count": 13,
      "outputs": [
        {
          "output_type": "execute_result",
          "data": {
            "text/plain": [
              "14"
            ]
          },
          "metadata": {},
          "execution_count": 13
        }
      ]
    },
    {
      "cell_type": "code",
      "source": [
        "List = [email [:14]]\n",
        "print (List)"
      ],
      "metadata": {
        "colab": {
          "base_uri": "https://localhost:8080/"
        },
        "id": "uVn5eogAjz2x",
        "outputId": "b228ceac-6f1a-4788-a7e3-14feac529556"
      },
      "execution_count": 14,
      "outputs": [
        {
          "output_type": "stream",
          "name": "stdout",
          "text": [
            "['vasilikhTsalla']\n"
          ]
        }
      ]
    },
    {
      "cell_type": "code",
      "source": [
        "email2 = \"marialeo@yahoo.gr\"\n",
        "email2.index(\"@\")"
      ],
      "metadata": {
        "colab": {
          "base_uri": "https://localhost:8080/"
        },
        "id": "7BvVYlGuj3CA",
        "outputId": "3e3b2168-b003-4f0c-e46c-00b91b766eb3"
      },
      "execution_count": 15,
      "outputs": [
        {
          "output_type": "execute_result",
          "data": {
            "text/plain": [
              "8"
            ]
          },
          "metadata": {},
          "execution_count": 15
        }
      ]
    },
    {
      "cell_type": "code",
      "source": [
        "List = [email2 [:8]]\n",
        "print (List)"
      ],
      "metadata": {
        "colab": {
          "base_uri": "https://localhost:8080/"
        },
        "id": "eo4gcJNhj5cg",
        "outputId": "84b0b6c0-5412-4758-a52b-365ebaa53d19"
      },
      "execution_count": 16,
      "outputs": [
        {
          "output_type": "stream",
          "name": "stdout",
          "text": [
            "['marialeo']\n"
          ]
        }
      ]
    },
    {
      "cell_type": "code",
      "source": [
        "email3 = \"eirhnakis@gmail.com\"\n",
        "email3.index(\"@\")"
      ],
      "metadata": {
        "colab": {
          "base_uri": "https://localhost:8080/"
        },
        "id": "ulOMZ11pj7PL",
        "outputId": "b0f07a91-ade6-448d-b68e-ce3d0bf2258f"
      },
      "execution_count": 17,
      "outputs": [
        {
          "output_type": "execute_result",
          "data": {
            "text/plain": [
              "9"
            ]
          },
          "metadata": {},
          "execution_count": 17
        }
      ]
    },
    {
      "cell_type": "code",
      "source": [
        "List = [email3 [:9]]\n",
        "print (List)"
      ],
      "metadata": {
        "colab": {
          "base_uri": "https://localhost:8080/"
        },
        "id": "Ite004dYj9LF",
        "outputId": "88d62845-bf3f-4443-8273-86a5b39a363b"
      },
      "execution_count": 18,
      "outputs": [
        {
          "output_type": "stream",
          "name": "stdout",
          "text": [
            "['eirhnakis']\n"
          ]
        }
      ]
    },
    {
      "cell_type": "code",
      "source": [
        "List = [email [:14], email2 [:8],email3 [:9]]\n",
        "print(len(List))  "
      ],
      "metadata": {
        "colab": {
          "base_uri": "https://localhost:8080/"
        },
        "id": "ksQtcf1Wj--x",
        "outputId": "e4b2d5a8-e144-45f4-d976-f0cfd142c183"
      },
      "execution_count": 19,
      "outputs": [
        {
          "output_type": "stream",
          "name": "stdout",
          "text": [
            "3\n"
          ]
        }
      ]
    },
    {
      "cell_type": "code",
      "source": [
        "List.sort()\n",
        "List"
      ],
      "metadata": {
        "colab": {
          "base_uri": "https://localhost:8080/"
        },
        "id": "_O9YaqxCkB0G",
        "outputId": "c45aa635-2987-490a-cf08-9dd73b86932e"
      },
      "execution_count": 20,
      "outputs": [
        {
          "output_type": "execute_result",
          "data": {
            "text/plain": [
              "['eirhnakis', 'marialeo', 'vasilikhTsalla']"
            ]
          },
          "metadata": {},
          "execution_count": 20
        }
      ]
    },
    {
      "cell_type": "markdown",
      "source": [
        "\n",
        "\n",
        "---\n",
        "\n",
        "####**Άσκηση 7**\n",
        "\n",
        "**Try yourself**: Σ' αυτή την άσκηση θα φτιάξουμε μια λίστα στην οποία θα αποθηκεύουμε δίάφορα δεδομένα από άρθρα που δημοσιεύονται σε sites.\n",
        "\n",
        "Φτιάξτε ένα νέο κελί κώδικα (Code cell) ακριβώς κάτω από αυτό και κάνετε τα παρακάτω:\n",
        "\n",
        "1. Δημιουργήστε μια κενή λίστα όπου θα αποθηκεύετε τα δεδομένα των άρθρων\n",
        "2. Δημιουργήστε ένα λεξικό με τα στοιχεία του πρώτου άρθρου που θα συλλέξετε από ένα site: \"Τίτλος\", \"Ημερομηνία\", \"Κατηγορία\", \"url\"\n",
        "3. Επαναλάβετε το 2 για ακόμα ένα άρθρο\n",
        "4. Προσθέστε τα λεξικά στη λίστα.\n",
        "5. Τυπώστε στην οθόνη τον τίτλο του 2ου άρθρου\n",
        "6. Προσθέστε και στα 2 άρθρα μια εγγραφή με το όνομα του αντίστοιχου site που πήρατε το άρθρο\n",
        "7. Τυπώστε στην οθόνη το πλήθος των λεξικών που έχει η λίστα.\n",
        "\n",
        "**Tip**:Δουλέψτε τμηματικά και ελέγχετε σε κάθε βήμα αυτό που κάνετε."
      ],
      "metadata": {
        "id": "KpVX9pHLNgB6"
      }
    },
    {
      "cell_type": "code",
      "source": [
        "ListA = []\n",
        "     \n",
        "\n",
        "elements_article = {\"Τίτλος\":\"Οι αποκαλυπτικοί διάλογοι των τρομοκρατών που σχεδίαζαν την επίθεση στο εστιατόριο\",\n",
        "                 \"Ημερομηνία\":\"29 Μαρτίου 2023\",\n",
        "                 \"Κατηγορία\":\"ΕΛΛΑΔΑ\",\n",
        "                 \"URL\":\"https://www.cnn.gr/ellada/story/356100/oi-apokalyptikoi-dialogoi-ton-tromokraton-pou-sxediazan-tin-epithesi-sto-estiatorio\"\n",
        "                 }\n",
        "     \n",
        "\n",
        "elements_article2 = {\"Τίτλος\":\"Αυξήθηκε ο αριθμός των πυρηνικών κεφαλών παγκοσμίως το 2022\",\n",
        "                 \"Ημερομηνία\":\"29 Μαρτίου 2023\",\n",
        "                 \"Κατηγορία\":\"ΚΟΣΜΟΣ\",\n",
        "                 \"URL\":\"https://www.cnn.gr/kosmos/story/356050/afksithike-o-arithmos-ton-pyrinikon-kefalon-pagkosmios-to-2022\"\n",
        "                 }\n",
        "     \n",
        "\n",
        "ListA = [elements_article, elements_article2]\n",
        "a = elements_article2 [\"Τίτλος\"]\n",
        "print (a)"
      ],
      "metadata": {
        "colab": {
          "base_uri": "https://localhost:8080/"
        },
        "id": "dKrT68-IkHxC",
        "outputId": "8f7ceec0-00be-43ad-9b38-5117289ee178"
      },
      "execution_count": 21,
      "outputs": [
        {
          "output_type": "stream",
          "name": "stdout",
          "text": [
            "Αυξήθηκε ο αριθμός των πυρηνικών κεφαλών παγκοσμίως το 2022\n"
          ]
        }
      ]
    },
    {
      "cell_type": "code",
      "source": [
        "elements_article ['Όνομα site'] = 'CNN'\n",
        "\n",
        "     \n",
        "\n",
        "elements_article2 ['Όνομα site'] = 'CNN'\n",
        "     \n",
        "\n",
        "print(len(ListA))"
      ],
      "metadata": {
        "colab": {
          "base_uri": "https://localhost:8080/"
        },
        "id": "qDOAqiFVkI5Z",
        "outputId": "80890424-740c-4cc1-8f53-dc5d411053c2"
      },
      "execution_count": 22,
      "outputs": [
        {
          "output_type": "stream",
          "name": "stdout",
          "text": [
            "2\n"
          ]
        }
      ]
    }
  ]
}