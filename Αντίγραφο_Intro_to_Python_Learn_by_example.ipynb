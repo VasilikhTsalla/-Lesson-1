{
  "nbformat": 4,
  "nbformat_minor": 0,
  "metadata": {
    "colab": {
      "provenance": []
    },
    "kernelspec": {
      "name": "python3",
      "display_name": "Python 3"
    },
    "language_info": {
      "name": "python"
    }
  },
  "cells": [
    {
      "cell_type": "markdown",
      "source": [
        "# Εισαγωγή στην Python - Learn by example"
      ],
      "metadata": {
        "id": "8Ec08Gv59haH"
      }
    },
    {
      "cell_type": "markdown",
      "source": [
        "\n",
        "\n",
        "---\n",
        "\n",
        "\n",
        "####**Ασκηση 1**\n",
        "\n",
        "**Try yourself**: Φτιάξτε ένα νέο κελί κώδικα (Code cell) ακριβώς κάτω από αυτό και:\n",
        "\n",
        "* διορθώστε την παραπάνω μεταβλητή έτσι ώστε να τρέχει ο κώδικας (να μην πετάει error)\n",
        "* στη συνέχεια τυπώστε σε νέο cell την τιμή της μεταβλητής στην οθόνη"
      ],
      "metadata": {
        "id": "a6IaC14VeON1"
      }
    },
    {
      "cell_type": "code",
      "source": [
        "five_years_ago = 2018\n",
        "five_years_ago = \"Η χρονιά του σκύλου\"\n",
        "five_years = False"
      ],
      "metadata": {
        "id": "Iz7w4Xhlxfpg"
      },
      "execution_count": 1,
      "outputs": []
    },
    {
      "cell_type": "markdown",
      "source": [
        "\n",
        "\n",
        "---\n"
      ],
      "metadata": {
        "id": "XXgMP_Wqfdkl"
      }
    },
    {
      "cell_type": "markdown",
      "source": [
        "\n",
        "\n",
        "---\n",
        "\n",
        "\n",
        "####**Άσκηση 2**\n",
        "\n",
        "**Try yourself**: Φτιάξτε ένα νέο κελί κώδικα (Code cell) ακριβώς κάτω από αυτό και δημιουργήστε μεταβλητές με τα στοιχεία σας:\n",
        "\n",
        "*   το μικρό σας όνομα\n",
        "*   το επίθετό σας\n",
        "*   το email σας\n",
        "*   το εξάμηνό σας\n",
        "*   τυπώστε όλα μαζί τα παραπάνω στην οθόνη"
      ],
      "metadata": {
        "id": "wiiXoX3tfVML"
      }
    },
    {
      "cell_type": "code",
      "source": [
        "firstName = \"Vasilikh\"\n",
        "lastName = \"Tsalla\"\n",
        "email = \"VaslikhTsalla@gmail.com\"\n",
        "semester = \"Z\"\n",
        "print (firstName, lastName, email, semester)\n"
      ],
      "metadata": {
        "id": "H9_OA9dWy8-P",
        "outputId": "fc25e446-0b39-4a27-c2fd-b0f390b9a6ba",
        "colab": {
          "base_uri": "https://localhost:8080/"
        }
      },
      "execution_count": 2,
      "outputs": [
        {
          "output_type": "stream",
          "name": "stdout",
          "text": [
            "Vasilikh Tsalla VaslikhTsalla@gmail.com Z\n"
          ]
        }
      ]
    },
    {
      "cell_type": "markdown",
      "source": [
        "\n",
        "\n",
        "---\n",
        "\n"
      ],
      "metadata": {
        "id": "BPFY90Wch5Hu"
      }
    },
    {
      "cell_type": "markdown",
      "source": [
        "\n",
        "\n",
        "---\n",
        "\n",
        "####**Άσκηση 3**\n",
        "\n",
        "**Try yourself**: Φτιάξτε ένα νέο κελί κώδικα (Code cell) ακριβώς κάτω από αυτό και κάνετε τα παρακάτω:\n",
        "\n",
        "* δημιουργήστε 3 μεταβλητές, όπου η καθεμιά θα έχει τη θερμοκρασία του αέρα όπως την καταγράψαμε το πρωί, το μεσημέρι και το βράδυ\n",
        "* βρείτε το μέσο όρο των θερμοκρασιών\n",
        "* βρείτε τη μέγιστη διαφορά των θερμοκρασιών\n",
        "* δημιουργήστε μια νέα μεταβλητή που θα περιέχει την τιμή της μέσης θερμοκρασίας σε ακέραιο\n",
        "* ελέγξτε τα αποτελέσματα τυπώνοντάς τα στην οθόνη\n"
      ],
      "metadata": {
        "id": "yrhDlp7r8Jsi"
      }
    },
    {
      "cell_type": "code",
      "source": [
        "temp_morning = 10\n",
        "temp_night = 12\n",
        "print (\"Η θερμοκρασία το πρωί ήταν:\", temp_morning)\n",
        "print (\"Η θερμοκρασία το βράδυ είναι:\" ,temp_night)"
      ],
      "metadata": {
        "id": "jdwZgNVo3h-w",
        "outputId": "76dee477-4120-423c-99a2-e81bc0203463",
        "colab": {
          "base_uri": "https://localhost:8080/"
        }
      },
      "execution_count": 4,
      "outputs": [
        {
          "output_type": "stream",
          "name": "stdout",
          "text": [
            "Η θερμοκρασία το πρωί ήταν: 10\n",
            "Η θερμοκρασία το βράδυ είναι: 12\n"
          ]
        }
      ]
    },
    {
      "cell_type": "code",
      "source": [
        "MO = temp_morning + temp_night/2\n",
        "print (\"Ο μέσος όρος των θερμοκρασιών είναι:\", MO)"
      ],
      "metadata": {
        "id": "gIkvJg4G370z",
        "outputId": "95635c76-2c7f-4ccb-da31-0efaee1708ac",
        "colab": {
          "base_uri": "https://localhost:8080/"
        }
      },
      "execution_count": 6,
      "outputs": [
        {
          "output_type": "stream",
          "name": "stdout",
          "text": [
            "Ο μέσος όρος των θερμοκρασιών είναι: 16.0\n"
          ]
        }
      ]
    },
    {
      "cell_type": "code",
      "source": [
        "Megisth_diafora = temp_night - temp_morning\n",
        "print (\"Η μέγιστη διαφορά των θερμοκρασιών είναι:\", Megisth_diafora)"
      ],
      "metadata": {
        "id": "TgEg12vb4r7V",
        "outputId": "e310a5e2-1d30-4955-a791-85c0ce725156",
        "colab": {
          "base_uri": "https://localhost:8080/"
        }
      },
      "execution_count": 7,
      "outputs": [
        {
          "output_type": "stream",
          "name": "stdout",
          "text": [
            "Η μέγιστη διαφορά των θερμοκρασιών είναι: 2\n"
          ]
        }
      ]
    },
    {
      "cell_type": "markdown",
      "source": [
        "\n",
        "\n",
        "---\n",
        "\n"
      ],
      "metadata": {
        "id": "9e8P749w98T9"
      }
    },
    {
      "cell_type": "code",
      "source": [
        "temp_akeraios = print(int(MO))"
      ],
      "metadata": {
        "id": "voOgHnP-4TaK",
        "outputId": "40926cb0-3c56-49c2-d0fa-fafd70580ad8",
        "colab": {
          "base_uri": "https://localhost:8080/"
        }
      },
      "execution_count": null,
      "outputs": [
        {
          "output_type": "stream",
          "name": "stdout",
          "text": [
            "16\n"
          ]
        }
      ]
    },
    {
      "cell_type": "markdown",
      "source": [
        "\n",
        "\n",
        "---\n",
        "\n",
        "####**Άσκηση 4**\n",
        "\n",
        "**Try yourself**: Φτιάξτε ένα νέο κελί κώδικα (Code cell) ακριβώς κάτω από αυτό και κάνετε τα παρακάτω:\n",
        "\n",
        "* δημιουργήστε μια μεταβλητή με την πόλη που μένετε και μία με το αγαπημένο σας ταξιδιωτικό προορισμό\n",
        "* ελέγξτε την ομοιότητα του τύπου των μεταβλητών\n",
        "* ελέγξτε την ισότητα των μεταβλητών\n",
        "* ελέγξτε αν η μεταβλητή της πόλης είναι μικρότερη της μεταβλητής του ταξιδιωτικού προορισμού\n",
        "\n",
        "Τι νομίζετε ότι σημαίνει ότι ένα string είναι μεγαλύτερο, μικρότερο ή ίσο με ένα άλλο;\n"
      ],
      "metadata": {
        "id": "pg9-mk1eTq2l"
      }
    },
    {
      "cell_type": "code",
      "source": [
        "polh_katoikias = \"Athina\"\n",
        "agaphmenos_tax_proorismos = \"Paros\"\n",
        "type(polh_katoikias), type(agaphmenos_tax_proorismos))"
      ],
      "metadata": {
        "id": "zNZGSrutCHiz",
        "colab": {
          "base_uri": "https://localhost:8080/"
        },
        "outputId": "ca35b3ce-cc53-453a-8c91-da2e6a742732"
      },
      "execution_count": 26,
      "outputs": [
        {
          "output_type": "execute_result",
          "data": {
            "text/plain": [
              "(str, str)"
            ]
          },
          "metadata": {},
          "execution_count": 26
        }
      ]
    },
    {
      "cell_type": "code",
      "source": [
        "print (\"Polh katoikias is equal to agaphmenos taxidiotikos proorismos:\", polh_katoikias == agaphmenos_tax_proorismos)"
      ],
      "metadata": {
        "colab": {
          "base_uri": "https://localhost:8080/"
        },
        "id": "22vqKKcOw81K",
        "outputId": "c8eb732b-4da5-4976-dbe0-9a76152ba3ad"
      },
      "execution_count": 27,
      "outputs": [
        {
          "output_type": "stream",
          "name": "stdout",
          "text": [
            "Polh katoikias is equal to agaphmenos taxidiotikos proorismos: False\n"
          ]
        }
      ]
    },
    {
      "cell_type": "code",
      "source": [
        "print (\"Polh_katoikias is less than agaphmenos taxidiotikos proorismos:\", polh_katoikias < agaphmenos_tax_proorismos)"
      ],
      "metadata": {
        "colab": {
          "base_uri": "https://localhost:8080/"
        },
        "id": "AVGGi-bLvXc0",
        "outputId": "bd4cdeac-a051-4de6-e77a-dce706fbe61a"
      },
      "execution_count": 28,
      "outputs": [
        {
          "output_type": "stream",
          "name": "stdout",
          "text": [
            "Polh_katoikias is less than agaphmenos taxidiotikos proorismos: True\n"
          ]
        }
      ]
    },
    {
      "cell_type": "markdown",
      "source": [
        "Το αν ένα string είναι μικρότερο, μεγαλύτερο ή ίσο με ένα αλλό σημαίνει πως οι χαρακτήρες της τιμής της μεταβλητής είναι περισσότεροι.\n"
      ],
      "metadata": {
        "id": "noQ5WyQfyAJm"
      }
    },
    {
      "cell_type": "markdown",
      "source": [
        "\n",
        "\n",
        "---\n",
        "\n"
      ],
      "metadata": {
        "id": "AQ0i1AgXLwF5"
      }
    },
    {
      "cell_type": "markdown",
      "source": [
        "\n",
        "\n",
        "---\n",
        "\n",
        "####**Άσκηση 5**\n",
        "\n",
        "**Try yourself**: Φτιάξτε ένα νέο κελί κώδικα (Code cell) ακριβώς κάτω από αυτό και κάνετε τα παρακάτω:\n",
        "\n",
        "* δημιουργήστε μια μεταβλητή με τιμή την datetime ημερομηνία δημοσίευσης ενός άρθρου: 2023-03-24T12:07:19+02:00\n",
        "* απομονώστε την ημερομηνία και αποθηκεύστε τη σε μια μεταβλητή με κατάλληλο όνομα\n",
        "* αποθηκεύστε σε διαφορετικές μεταβλητές το έτος, το μήνα και την ημέρα\n",
        "* απομονώστε την ώρα (ώρα, λεπτά και δευτερόλεπτα) και αποθηκεύστε τη σε μια νέα μεταβλητή\n",
        "* χρησιμοποιώντας τις μεταβλητές που φτιάξατε, δημιουργήστε μια νέα μεταβλητή string που θα περιέχει: <ημέρα>/<μήνας>/<έτος>, ώρα: <ώρα>\n",
        "* και τυπώστε τη στην οθόνη"
      ],
      "metadata": {
        "id": "jIk9BoTu-f05"
      }
    },
    {
      "cell_type": "markdown",
      "source": [
        "\n",
        "\n",
        "---\n",
        "\n"
      ],
      "metadata": {
        "id": "g1qp6-OEBi1j"
      }
    },
    {
      "cell_type": "code",
      "source": [
        "datetime = \"2023-3-24, 12-7-19+2-00\"\n",
        "List = datetime \n",
        "date = List [:9]\n",
        "\n",
        "\n"
      ],
      "metadata": {
        "id": "D9xI23l30BCJ"
      },
      "execution_count": 63,
      "outputs": []
    },
    {
      "cell_type": "code",
      "source": [
        "time = List [-13:]\n"
      ],
      "metadata": {
        "id": "oER0VGy03MRk"
      },
      "execution_count": 62,
      "outputs": []
    },
    {
      "cell_type": "code",
      "source": [
        "new_datetime = (date , time)\n",
        "print (new_datetime)"
      ],
      "metadata": {
        "colab": {
          "base_uri": "https://localhost:8080/"
        },
        "id": "pkoxcaNb35f_",
        "outputId": "d8bedea2-5b57-452f-8e5f-819c2fd7cfa8"
      },
      "execution_count": 65,
      "outputs": [
        {
          "output_type": "stream",
          "name": "stdout",
          "text": [
            "('2023-3-24', ' 12-7-19+2-00')\n"
          ]
        }
      ]
    },
    {
      "cell_type": "markdown",
      "source": [
        "\n",
        "\n",
        "---\n",
        "\n",
        "####**Άσκηση 6**\n",
        "\n",
        "**Try yourself**: Φτιάξτε ένα νέο κελί κώδικα (Code cell) ακριβώς κάτω από αυτό και κάνετε τα παρακάτω:\n",
        "\n",
        "1. Δημιουργήστε μια κενή λίστα\n",
        "2. Φτιάξτε μια μεταβλητή με ένα email\n",
        "3. Βρείτε το index του \"@\"\n",
        "4. Πάρτε (slice) το τμήμα του mail που έχει μόνο το όνομα και βάλτε το στη λίστα\n",
        "5. Επαναλάβετε τα βήματα 2-4 άλλες 2 φορές\n",
        "6. Ταξινομήστε τα περιεχόμενα της λίστας με αύξουσα σειρά και\n",
        "7. Τυπώστε τα περιεχόμενά της στην οθόνη"
      ],
      "metadata": {
        "id": "_agWj9vpdYL9"
      }
    },
    {
      "cell_type": "code",
      "source": [
        "List = []\n",
        "email = \"vasilikhTsalla@gmail.com\"\n",
        "email.index(\"@\")"
      ],
      "metadata": {
        "colab": {
          "base_uri": "https://localhost:8080/"
        },
        "id": "mSr180744ZI1",
        "outputId": "e191b407-8de3-4cae-d3c0-74e4dc837a9b"
      },
      "execution_count": 18,
      "outputs": [
        {
          "output_type": "execute_result",
          "data": {
            "text/plain": [
              "14"
            ]
          },
          "metadata": {},
          "execution_count": 18
        }
      ]
    },
    {
      "cell_type": "code",
      "source": [
        "List = [email [:14]]\n",
        "print (List)"
      ],
      "metadata": {
        "colab": {
          "base_uri": "https://localhost:8080/"
        },
        "id": "vixF58pL457q",
        "outputId": "06dcf3da-901c-42d8-8b1d-24bd2e9e6a60"
      },
      "execution_count": 19,
      "outputs": [
        {
          "output_type": "stream",
          "name": "stdout",
          "text": [
            "['vasilikhTsalla']\n"
          ]
        }
      ]
    },
    {
      "cell_type": "code",
      "source": [
        "email2 = \"marialeo@yahoo.gr\"\n",
        "email2.index(\"@\")"
      ],
      "metadata": {
        "colab": {
          "base_uri": "https://localhost:8080/"
        },
        "id": "ndjSoucT5kAl",
        "outputId": "eeeb51b5-3fd9-4adb-c684-fb7fb8269d50"
      },
      "execution_count": 20,
      "outputs": [
        {
          "output_type": "execute_result",
          "data": {
            "text/plain": [
              "8"
            ]
          },
          "metadata": {},
          "execution_count": 20
        }
      ]
    },
    {
      "cell_type": "code",
      "source": [
        "List = [email2 [:8]]\n",
        "print (List)"
      ],
      "metadata": {
        "colab": {
          "base_uri": "https://localhost:8080/"
        },
        "id": "EdJGQT-v5zmr",
        "outputId": "62910410-7346-4498-de36-96253c265591"
      },
      "execution_count": 21,
      "outputs": [
        {
          "output_type": "stream",
          "name": "stdout",
          "text": [
            "['marialeo']\n"
          ]
        }
      ]
    },
    {
      "cell_type": "code",
      "source": [
        "email3 = \"eirhnakis@gmail.com\"\n",
        "email3.index(\"@\")"
      ],
      "metadata": {
        "colab": {
          "base_uri": "https://localhost:8080/"
        },
        "id": "piMf04KY6DNY",
        "outputId": "2d21fbbb-c340-4b2f-d7e8-eb4b2a375cc9"
      },
      "execution_count": 22,
      "outputs": [
        {
          "output_type": "execute_result",
          "data": {
            "text/plain": [
              "9"
            ]
          },
          "metadata": {},
          "execution_count": 22
        }
      ]
    },
    {
      "cell_type": "code",
      "source": [
        "List = [email3 [:9]]\n",
        "print (List)"
      ],
      "metadata": {
        "colab": {
          "base_uri": "https://localhost:8080/"
        },
        "id": "sRohrD6p6blM",
        "outputId": "c7ff9cab-0cca-4543-d5a2-c20b2fb335ad"
      },
      "execution_count": 23,
      "outputs": [
        {
          "output_type": "stream",
          "name": "stdout",
          "text": [
            "['eirhnakis']\n"
          ]
        }
      ]
    },
    {
      "cell_type": "code",
      "source": [
        "List = [email [:14], email2 [:8],email3 [:9]]\n",
        "print(len(List))  "
      ],
      "metadata": {
        "colab": {
          "base_uri": "https://localhost:8080/"
        },
        "id": "YEnAVENu_0ME",
        "outputId": "ec7b311f-96fd-4872-b9a8-902ff77caa36"
      },
      "execution_count": 24,
      "outputs": [
        {
          "output_type": "stream",
          "name": "stdout",
          "text": [
            "3\n"
          ]
        }
      ]
    },
    {
      "cell_type": "code",
      "source": [
        "List.sort()\n",
        "List"
      ],
      "metadata": {
        "colab": {
          "base_uri": "https://localhost:8080/"
        },
        "id": "5r0FpLnA6wk0",
        "outputId": "ea0f66f8-00c3-45a1-b37f-c484ef161ed6"
      },
      "execution_count": 25,
      "outputs": [
        {
          "output_type": "execute_result",
          "data": {
            "text/plain": [
              "['eirhnakis', 'marialeo', 'vasilikhTsalla']"
            ]
          },
          "metadata": {},
          "execution_count": 25
        }
      ]
    },
    {
      "cell_type": "markdown",
      "source": [
        "\n",
        "\n",
        "---\n",
        "\n"
      ],
      "metadata": {
        "id": "MU8tNnN-ihjd"
      }
    },
    {
      "cell_type": "markdown",
      "source": [
        "\n",
        "\n",
        "---\n",
        "\n",
        "####**Άσκηση 7**\n",
        "\n",
        "**Try yourself**: Φτιάξτε ένα νέο κελί κώδικα (Code cell) ακριβώς κάτω από αυτό και κάνετε τα παρακάτω:\n",
        "\n",
        "1. Δημιουργήστε μια κενή λίστα\n",
        "2. Δημιουργήστε ένα λεξικό με τα στοιχεία ενός άρθρου από ένα site: \"Τίτλος\", \"Ημερομηνία\", \"Κατηγορία\", \"url\"\n",
        "3. Επαναλάβετε το 2 για ακόμα ένα άρθρο\n",
        "4. Προσθέστε τα λεξικά στη λίστα.\n",
        "5. Τυπώστε στην οθόνη τον τίτλο του 2ου άρθρου\n",
        "6. Προσθέστε και στα 2 άρθρα μια εγγραφή με το όνομα του αντίστοιχου site που πήρατε το άρθρο\n",
        "7. Τυπώστε στην οθόνη το πλήθος των λεξικών που έχει η λίστα."
      ],
      "metadata": {
        "id": "KpVX9pHLNgB6"
      }
    },
    {
      "cell_type": "code",
      "source": [
        "ListA = []"
      ],
      "metadata": {
        "id": "UBud0f4pCaVi"
      },
      "execution_count": 26,
      "outputs": []
    },
    {
      "cell_type": "code",
      "source": [
        "elements_article = {\"Τίτλος\":\"Οι αποκαλυπτικοί διάλογοι των τρομοκρατών που σχεδίαζαν την επίθεση στο εστιατόριο\",\n",
        "                 \"Ημερομηνία\":\"29 Μαρτίου 2023\",\n",
        "                 \"Κατηγορία\":\"ΕΛΛΑΔΑ\",\n",
        "                 \"URL\":\"https://www.cnn.gr/ellada/story/356100/oi-apokalyptikoi-dialogoi-ton-tromokraton-pou-sxediazan-tin-epithesi-sto-estiatorio\"\n",
        "                 }"
      ],
      "metadata": {
        "id": "xUQQvqL6ChM7"
      },
      "execution_count": 29,
      "outputs": []
    },
    {
      "cell_type": "code",
      "source": [
        "elements_article2 = {\"Τίτλος\":\"Αυξήθηκε ο αριθμός των πυρηνικών κεφαλών παγκοσμίως το 2022\",\n",
        "                 \"Ημερομηνία\":\"29 Μαρτίου 2023\",\n",
        "                 \"Κατηγορία\":\"ΚΟΣΜΟΣ\",\n",
        "                 \"URL\":\"https://www.cnn.gr/kosmos/story/356050/afksithike-o-arithmos-ton-pyrinikon-kefalon-pagkosmios-to-2022\"\n",
        "                 }"
      ],
      "metadata": {
        "id": "_drx0L9aDRwb"
      },
      "execution_count": 28,
      "outputs": []
    },
    {
      "cell_type": "code",
      "source": [
        "ListA = [elements_article, elements_article2]\n",
        "a = elements_article2 [\"Τίτλος\"]\n",
        "print (a)"
      ],
      "metadata": {
        "colab": {
          "base_uri": "https://localhost:8080/"
        },
        "id": "ilpbHS8bD2YQ",
        "outputId": "aa4b1900-87cf-4504-9426-d164992c52b9"
      },
      "execution_count": 33,
      "outputs": [
        {
          "output_type": "stream",
          "name": "stdout",
          "text": [
            "Αυξήθηκε ο αριθμός των πυρηνικών κεφαλών παγκοσμίως το 2022\n"
          ]
        }
      ]
    },
    {
      "cell_type": "code",
      "source": [
        "elements_article ['Όνομα site'] = 'CNN'\n"
      ],
      "metadata": {
        "id": "Vkn_ioBpEfAO"
      },
      "execution_count": 41,
      "outputs": []
    },
    {
      "cell_type": "code",
      "source": [
        "elements_article2 ['Όνομα site'] = 'CNN'"
      ],
      "metadata": {
        "id": "hWpJ3VTuFLmr"
      },
      "execution_count": 42,
      "outputs": []
    },
    {
      "cell_type": "code",
      "source": [
        "print(len(ListA))"
      ],
      "metadata": {
        "colab": {
          "base_uri": "https://localhost:8080/"
        },
        "id": "6FVHCuPnFXfq",
        "outputId": "bbe30078-afaa-41db-f584-fceb905fa34f"
      },
      "execution_count": 44,
      "outputs": [
        {
          "output_type": "stream",
          "name": "stdout",
          "text": [
            "2\n"
          ]
        }
      ]
    },
    {
      "cell_type": "markdown",
      "source": [
        "\n",
        "\n",
        "---\n",
        "\n"
      ],
      "metadata": {
        "id": "E4Lpa5jVGYOS"
      }
    }
  ]
}